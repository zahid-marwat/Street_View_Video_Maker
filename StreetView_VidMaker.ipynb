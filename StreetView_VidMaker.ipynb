{
 "cells": [
  {
   "cell_type": "code",
   "execution_count": 1,
   "metadata": {},
   "outputs": [],
   "source": [
    "# Some useful Google API documentation:\n",
    "# https://developers.google.com/maps/documentation/directions/\n",
    "# https://developers.google.com/maps/documentation/roads/snap\n",
    "from modules.API_Keys import StreetView_API_Key\n",
    "from modules.utils import haversine, get_sv_img, get_video, calculate_angle\n",
    "import os\n",
    "import json\n",
    "import pandas as pd\n",
    "import cv2\n",
    "import time\n",
    "import sys\n",
    "import requests\n",
    "import math\n",
    "apikey_streetview = StreetView_API_Key()\n",
    "metadata=[]"
   ]
  },
  {
   "cell_type": "code",
   "execution_count": 2,
   "metadata": {},
   "outputs": [],
   "source": [
    "def get_sv_images(apikey_streetview,\n",
    "                  start_coords,\n",
    "                  end_coords,\n",
    "                  savepath='PHOTO_FOLDER/',\n",
    "                  pic_dim=\"640x450\"):\n",
    "    \n",
    "    distance = haversine(start_coords, end_coords)\n",
    "    num_images = max(1, int(distance // 30))  # At least 1 image for every 3 feet\n",
    "\n",
    "    lat_step = (end_coords[0] - start_coords[0]) / num_images\n",
    "    lon_step = (end_coords[1] - start_coords[1]) / num_images\n",
    "\n",
    "    global metadata\n",
    "    direction_angle = calculate_angle(start_coords,end_coords)\n",
    "\n",
    "    for i in range(num_images):\n",
    "        lat = start_coords[0] + lat_step * i\n",
    "        lon = start_coords[1] + lon_step * i\n",
    "        timestamp = time.time_ns()\n",
    "        filename = f\"image_{timestamp}\"\n",
    "        \n",
    "        get_sv_img(apikey_streetview, (lat, lon), filename=filename, savepath=savepath, picsize=pic_dim, heading=direction_angle)\n",
    "        \n",
    "        metadata.append({\n",
    "            \"image_name\": filename + \".jpg\",\n",
    "            \"latitude\": lat,\n",
    "            \"longitude\": lon,\n",
    "            \"image_dim\": pic_dim\n",
    "        })\n",
    "        \n",
    "    return"
   ]
  },
  {
   "cell_type": "code",
   "execution_count": 3,
   "metadata": {},
   "outputs": [
    {
     "name": "stdout",
     "output_type": "stream",
     "text": [
      "Processing segment 1: Start (25.09639043, 55.15337034), End (25.09854667, 55.15531477)\n"
     ]
    }
   ],
   "source": [
    "images_path='Data'+os.sep+'PHOTO_FOLDER/'\n",
    "coordiantes_csv ='Coordinates.csv'\n",
    "pic_dim = \"640x640\"  # Adjusted for efficiency\n",
    "output_vid_fps=10\n",
    "\n",
    "timestamp = time.time()\n",
    "video_name = os.path.join('', f'SV_video_{timestamp}.mp4')\n",
    "\n",
    "lat_long_points=pd.read_csv(coordiantes_csv)\n",
    "total_segments=len(lat_long_points[\"Latitude_A\"])\n",
    "\n",
    "# Start Points\n",
    "lat_points_A=lat_long_points[\"Latitude_A\"]\n",
    "long_points_A=lat_long_points[\"Longitude_A\"]\n",
    "\n",
    "# End Points\n",
    "lat_points_B=lat_long_points[\"Latitude_B\"]\n",
    "long_points_B=lat_long_points[\"Longitude_B\"]\n",
    "\n",
    "for idx in range(total_segments):\n",
    "    start_point = (lat_points_A[idx], long_points_A[idx])\n",
    "    end_point= (lat_points_B[idx], long_points_B[idx])\n",
    "    print(f\"Processing segment {idx + 1}: Start {start_point}, End {end_point}\")\n",
    "    get_sv_images(apikey_streetview, start_point, end_point, savepath=images_path)\n",
    "\n",
    "# Save metadata\n",
    "metadata_df = pd.DataFrame(metadata)\n",
    "metadata_df.to_csv((str(timestamp)+'metadata.csv'), index=False)\n",
    "get_video(images_path,video_name,output_vid_fps)\n",
    "metadata=[]"
   ]
  }
 ],
 "metadata": {
  "kernelspec": {
   "display_name": "yolov8test",
   "language": "python",
   "name": "python3"
  },
  "language_info": {
   "codemirror_mode": {
    "name": "ipython",
    "version": 3
   },
   "file_extension": ".py",
   "mimetype": "text/x-python",
   "name": "python",
   "nbconvert_exporter": "python",
   "pygments_lexer": "ipython3",
   "version": "3.10.13"
  }
 },
 "nbformat": 4,
 "nbformat_minor": 2
}
