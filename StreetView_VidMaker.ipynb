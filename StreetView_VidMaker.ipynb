{
 "cells": [
  {
   "cell_type": "code",
   "execution_count": null,
   "metadata": {},
   "outputs": [],
   "source": [
    "# Some useful Google API documentation:\n",
    "# https://developers.google.com/maps/documentation/directions/\n",
    "# https://developers.google.com/maps/documentation/roads/snap\n",
    "from modules.API_Keys import StreetView_API_Key\n",
    "import os\n",
    "from urllib.request import urlretrieve, urlopen\n",
    "import json\n",
    "import pandas as pd\n",
    "import cv2\n",
    "import math\n",
    "import time\n",
    "import sys\n",
    "import requests\n",
    "import math\n",
    "apikey_streetview = StreetView_API_Key"
   ]
  },
  {
   "cell_type": "code",
   "execution_count": null,
   "metadata": {},
   "outputs": [],
   "source": []
  },
  {
   "cell_type": "code",
   "execution_count": null,
   "metadata": {},
   "outputs": [],
   "source": [
    "def get_sv_video(apikey_streetview, start_coords, end_coords, savepath='PHOTO_FOLDER/', video_name='street_view_video.avi', fps=3,section=3):\n",
    "    distance = haversine(start_coords, end_coords)\n",
    "    num_images = max(1, int(distance // 30))  # At least 1 image for every 3 feet\n",
    "\n",
    "    lat_step = (end_coords[0] - start_coords[0]) / num_images\n",
    "    lon_step = (end_coords[1] - start_coords[1]) / num_images\n",
    "\n",
    "    images = []\n",
    "    metadata = [] \n",
    "    \n",
    "    pic_dim = \"640x640\"  # Adjusted for efficiency\n",
    "    if section in [5,6]:\n",
    "        direction=90\n",
    "    else:\n",
    "        direction= 0\n",
    "    for i in range(num_images):\n",
    "        lat = start_coords[0] + lat_step * i\n",
    "        lon = start_coords[1] + lon_step * i\n",
    "        # time.sleep(5)\n",
    "        # Generate filename with current time in nanoseconds\n",
    "        timestamp = time.time_ns()\n",
    "        filename = f\"image_{timestamp}\"\n",
    "        \n",
    "        get_sv_img(apikey_streetview, (lat, lon), filename=filename, savepath=savepath, picsize=pic_dim, heading=direction)\n",
    "        \n",
    "        image_path = os.path.join(savepath, filename + \".jpg\")\n",
    "        metadata.append({\n",
    "            \"image_name\": filename + \".jpg\",\n",
    "            \"latitude\": lat,\n",
    "            \"longitude\": lon,\n",
    "            \"image_size\": pic_dim\n",
    "        })\n",
    "        \n",
    "        images.append(image_path)\n",
    "\n",
    "    # Creating video from images\n",
    "    if images:\n",
    "        frame = cv2.imread(images[0])\n",
    "        height, width, layers = frame.shape\n",
    "        video = cv2.VideoWriter(video_name, cv2.VideoWriter_fourcc(*'XVID'), fps, (width, height))\n",
    "\n",
    "        for image in images:\n",
    "            video.write(cv2.imread(image))\n",
    "\n",
    "        cv2.destroyAllWindows()\n",
    "        video.release()\n",
    "\n",
    "    # Save metadata\n",
    "    metadata_df = pd.DataFrame(metadata)\n",
    "    metadata_df.to_csv(os.path.join(savepath, 'metadata.csv'), index=False)\n"
   ]
  },
  {
   "cell_type": "code",
   "execution_count": null,
   "metadata": {},
   "outputs": [],
   "source": [
    "def process_road_sections(apikey_streetview, road_sections, savepath='PHOTO_FOLDER/'):\n",
    "    for idx, (start_coords, end_coords) in enumerate(road_sections):\n",
    "        print(f\"Processing section {idx + 1}: Start {start_coords}, End {end_coords}\")\n",
    "        video_name = os.path.join(savepath, f'street_view_video_section_{idx + 1}.avi')\n",
    "        get_sv_video(apikey_streetview, start_coords, end_coords, savepath=savepath, video_name=video_name, section=idx + 1)\n"
   ]
  },
  {
   "cell_type": "code",
   "execution_count": null,
   "metadata": {},
   "outputs": [],
   "source": [
    "\n",
    "# Example list of road sections (tuples of (start_coords, end_coords))\n",
    "road_sections = [\n",
    "    ((25.085294619594887, 55.19778624258285), (25.09331469279902, 55.203831529713725)),\n",
    "    ((25.09331469279902, 55.203831529713725), (25.09485548254961, 55.20371683004338)),\n",
    "    ((25.095551165722455, 55.20329182526299), (25.09843033276794, 55.20316293376894)),\n",
    "    ((25.09843033276794, 55.20316293376894), (25.099856922008204, 55.20430863594598)),\n",
    "    ((25.09983098417138, 55.20430863594598), (25.10014223785042, 55.20592694026025)),\n",
    "    ((25.10014223785042, 55.20592694026025), (25.100505429726603, 55.21165847724775)),\n",
    "    ((25.101339654372964, 55.212643485672885), (25.110188596136346, 55.219896698011766)),\n",
    "    ((25.110188596136346, 55.219896698011766), (25.11375096639641, 55.220001823943896)),\n",
    "    ((25.115373091455645, 55.22080099313514), (25.1476527907927, 55.24685799361344)),\n",
    "    ]\n",
    "\n",
    "\n",
    "process_road_sections(apikey_streetview, road_sections, savepath='PHOTO_FOLDER/')\n"
   ]
  },
  {
   "cell_type": "code",
   "execution_count": null,
   "metadata": {},
   "outputs": [],
   "source": []
  },
  {
   "cell_type": "code",
   "execution_count": null,
   "metadata": {},
   "outputs": [],
   "source": []
  },
  {
   "cell_type": "code",
   "execution_count": null,
   "metadata": {},
   "outputs": [],
   "source": []
  }
 ],
 "metadata": {
  "kernelspec": {
   "display_name": "yolov8test",
   "language": "python",
   "name": "python3"
  },
  "language_info": {
   "codemirror_mode": {
    "name": "ipython",
    "version": 3
   },
   "file_extension": ".py",
   "mimetype": "text/x-python",
   "name": "python",
   "nbconvert_exporter": "python",
   "pygments_lexer": "ipython3",
   "version": "3.10.13"
  }
 },
 "nbformat": 4,
 "nbformat_minor": 2
}
